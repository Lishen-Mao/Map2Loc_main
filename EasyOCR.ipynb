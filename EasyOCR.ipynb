{
 "cells": [
  {
   "cell_type": "code",
   "execution_count": null,
   "id": "6b8fa608-e7da-4fcd-9b85-653a8eaa9e09",
   "metadata": {},
   "outputs": [],
   "source": [
    "#Install Packages\n",
    "#pip install torch torchvision torchaudio\n",
    "#pip install easyocr"
   ]
  },
  {
   "cell_type": "code",
   "execution_count": 1,
   "id": "488e6d10-4862-4b7d-bbc0-7bee82ccaf69",
   "metadata": {},
   "outputs": [],
   "source": [
    "import os\n",
    "os.environ['KMP_DUPLICATE_LIB_OK']='True'"
   ]
  },
  {
   "cell_type": "code",
   "execution_count": 3,
   "id": "7ca027ac-de6d-4568-a6a4-e4ee059472f1",
   "metadata": {},
   "outputs": [],
   "source": [
    "#import needed packages\n",
    "import easyocr\n",
    "from PIL import Image, ImageDraw\n",
    "import cv2\n",
    "import numpy as np\n",
    "import re\n",
    "import shutil"
   ]
  },
  {
   "cell_type": "code",
   "execution_count": 21,
   "id": "aec22534-c424-47fd-a9fc-6741003f9f39",
   "metadata": {},
   "outputs": [
    {
     "name": "stderr",
     "output_type": "stream",
     "text": [
      "Using CPU. Note: This module is much faster with a GPU.\n"
     ]
    },
    {
     "name": "stdout",
     "output_type": "stream",
     "text": [
      "正在处理文件: D:\\Topo_OCR_Testing\\Academy_1946.tif\n",
      "已经保存至: D:\\USGS_Topo\\USGS_Testing_OCR\\Academy_1946_OCR_Remove.tif\n",
      "正在处理文件: D:\\Topo_OCR_Testing\\Brattleboro_1893.tif\n",
      "已经保存至: D:\\USGS_Topo\\USGS_Testing_OCR\\Brattleboro_1893_OCR_Remove.tif\n",
      "正在处理文件: D:\\Topo_OCR_Testing\\Brewer Butte_1978.tif\n",
      "已经保存至: D:\\USGS_Topo\\USGS_Testing_OCR\\Brewer Butte_1978_OCR_Remove.tif\n",
      "正在处理文件: D:\\Topo_OCR_Testing\\Brewton South_1959.tif\n",
      "跳过文件 Brewton South_1959.tif，发生错误：y1 must be greater than or equal to y0\n",
      "正在处理文件: D:\\Topo_OCR_Testing\\Brickeys_1984.tif\n",
      "已经保存至: D:\\USGS_Topo\\USGS_Testing_OCR\\Brickeys_1984_OCR_Remove.tif\n",
      "正在处理文件: D:\\Topo_OCR_Testing\\Bristol_1955.tif\n",
      "跳过文件 Bristol_1955.tif，发生错误：x1 must be greater than or equal to x0\n",
      "正在处理文件: D:\\Topo_OCR_Testing\\Britton 4 SW_1958.tif\n",
      "已经保存至: D:\\USGS_Topo\\USGS_Testing_OCR\\Britton 4 SW_1958_OCR_Remove.tif\n",
      "正在处理文件: D:\\Topo_OCR_Testing\\Brookston NW_1953.tif\n",
      "已经保存至: D:\\USGS_Topo\\USGS_Testing_OCR\\Brookston NW_1953_OCR_Remove.tif\n",
      "正在处理文件: D:\\Topo_OCR_Testing\\Brownfield_1964.tif\n",
      "跳过文件 Brownfield_1964.tif，发生错误：x1 must be greater than or equal to x0\n",
      "正在处理文件: D:\\Topo_OCR_Testing\\Burlington NW_1949.tif\n",
      "已经保存至: D:\\USGS_Topo\\USGS_Testing_OCR\\Burlington NW_1949_OCR_Remove.tif\n",
      "正在处理文件: D:\\Topo_OCR_Testing\\Burna_1954.tif\n",
      "已经保存至: D:\\USGS_Topo\\USGS_Testing_OCR\\Burna_1954_OCR_Remove.tif\n",
      "正在处理文件: D:\\Topo_OCR_Testing\\Burrillville_1894.tif\n",
      "已经保存至: D:\\USGS_Topo\\USGS_Testing_OCR\\Burrillville_1894_OCR_Remove.tif\n",
      "正在处理文件: D:\\Topo_OCR_Testing\\Butte NW_1951.tif\n",
      "跳过文件 Butte NW_1951.tif，发生错误：x1 must be greater than or equal to x0\n",
      "正在处理文件: D:\\Topo_OCR_Testing\\Califon_1943.tif\n",
      "跳过文件 Califon_1943.tif，发生错误：x1 must be greater than or equal to x0\n",
      "全部图像处理完成。\n"
     ]
    }
   ],
   "source": [
    "# 设置输入输出路径\n",
    "input_folder = r'D:\\Topo_OCR_Testing'\n",
    "output_folder = r'D:\\USGS_Topo\\USGS_Testing_OCR'\n",
    "\n",
    "# 确保输出路径存在\n",
    "os.makedirs(output_folder, exist_ok=True)\n",
    "\n",
    "# 初始化 EasyOCR（CPU）\n",
    "reader = easyocr.Reader(['en'], gpu=False)\n",
    "\n",
    "# 匹配纯数字\n",
    "pattern = r'\\d'\n",
    "\n",
    "# 遍历所有 .tif 文件\n",
    "for filename in os.listdir(input_folder):\n",
    "    if filename.lower().endswith('.tif'):\n",
    "        input_path = os.path.join(input_folder, filename)\n",
    "        print(f\"正在处理文件: {input_path}\")\n",
    "\n",
    "        try:\n",
    "        # 打开图像\n",
    "            img = Image.open(input_path)\n",
    "            img_gray = img.convert('L')\n",
    "            img_cv = np.array(img_gray)\n",
    "            _, img_thresh = cv2.threshold(img_cv, 150, 255, cv2.THRESH_BINARY)\n",
    "\n",
    "            # OCR识别\n",
    "            result = reader.readtext(np.array(img_thresh))\n",
    "\n",
    "        # 初始化绘图对象\n",
    "            draw = ImageDraw.Draw(img)\n",
    "            for detection in result:\n",
    "                text = detection[1]\n",
    "                bbox = detection[0]\n",
    "            \n",
    "            # 如果是纯数字，则移除\n",
    "                if re.match(pattern, text):\n",
    "                    x1, y1 = int(bbox[0][0]), int(bbox[0][1])\n",
    "                    x2, y2 = int(bbox[2][0]), int(bbox[2][1])\n",
    "                    draw.rectangle([x1, y1, x2, y2], fill=\"black\")\n",
    "\n",
    "            # 保存结果\n",
    "            base_name = os.path.splitext(filename)[0]\n",
    "            output_filename = f\"{base_name}_OCR_Remove.tif\"\n",
    "            output_path = os.path.join(output_folder, output_filename)\n",
    "            img.save(output_path)\n",
    "            print(f\"已经保存至: {output_path}\")\n",
    "        except Exception as e:\n",
    "            print(f\"跳过文件 {filename}，发生错误：{e}\")\n",
    "            continue  # 继续下一个文件\n",
    "\n",
    "print(\"全部图像处理完成。\")\n"
   ]
  },
  {
   "cell_type": "code",
   "execution_count": null,
   "id": "21ef490f-806a-4a8c-bf6c-5cdb5a3a7cf1",
   "metadata": {},
   "outputs": [
    {
     "name": "stderr",
     "output_type": "stream",
     "text": [
      "Using CPU. Note: This module is much faster with a GPU.\n"
     ]
    },
    {
     "name": "stdout",
     "output_type": "stream",
     "text": [
      "Processing Abbeville South_1974.tif...\n"
     ]
    },
    {
     "name": "stderr",
     "output_type": "stream",
     "text": [
      "D:\\anaconda3\\envs\\geoai_env\\Lib\\site-packages\\PIL\\TiffImagePlugin.py:759: UserWarning: Metadata Warning, tag 33723 had too many entries: 15, expected 1\n",
      "  warnings.warn(\n"
     ]
    },
    {
     "name": "stdout",
     "output_type": "stream",
     "text": [
      "Processed image saved as: D:/USGS_Topo/USGS_Testing_OCR\\OCR-Nonumber_Abbeville South_1974.tif\n",
      "Processing Aberdeen East_1960.tif...\n"
     ]
    },
    {
     "name": "stderr",
     "output_type": "stream",
     "text": [
      "D:\\anaconda3\\envs\\geoai_env\\Lib\\site-packages\\PIL\\TiffImagePlugin.py:759: UserWarning: Metadata Warning, tag 33723 had too many entries: 14, expected 1\n",
      "  warnings.warn(\n"
     ]
    },
    {
     "name": "stdout",
     "output_type": "stream",
     "text": [
      "Processed image saved as: D:/USGS_Topo/USGS_Testing_OCR\\OCR-Nonumber_Aberdeen East_1960.tif\n",
      "Processing Abeytas_1952.tif...\n",
      "Processed image saved as: D:/USGS_Topo/USGS_Testing_OCR\\OCR-Nonumber_Abeytas_1952.tif\n",
      "Processing Ada_1965.tif...\n"
     ]
    }
   ],
   "source": [
    "# 指定包含.tif文件的文件夹路径\n",
    "# Path to your folder containing the .tif images\n",
    "folder_path = r'D:\\USGS_Topo\\USGS_Testing_Tif'\n",
    "\n",
    "output_folder = 'D:/USGS_Topo/USGS_Testing_OCR'  # 请替换为实际的输出文件夹路径\n",
    "\n",
    "# 创建输出文件夹，如果不存在\n",
    "if not os.path.exists(output_folder):\n",
    "    os.makedirs(output_folder)\n",
    "\n",
    "# Initialize EasyOCR reader (disable GPU for CPU-only processing)\n",
    "reader = easyocr.Reader(['en'], gpu=False)\n",
    "\n",
    "# Get a list of all .tif files in the folder\n",
    "tif_files = [f for f in os.listdir(folder_path) if f.lower().endswith('.tif')]\n",
    "\n",
    "# Process the first 20 .tif images\n",
    "for i, tif_file in enumerate(tif_files[:20]):\n",
    "    print(f\"Processing {tif_file}...\")\n",
    "    # Path to your uploaded .tif image\n",
    "    image_path = os.path.join(folder_path, tif_file)\n",
    "\n",
    "    # Open the image using Pillow\n",
    "    img = Image.open(image_path)\n",
    "\n",
    "    # Convert the image to grayscale for better OCR results\n",
    "    img_gray = img.convert('L')\n",
    "\n",
    "    # Convert grayscale image to numpy array for OpenCV processing\n",
    "    img_cv = np.array(img_gray)\n",
    "\n",
    "    # Use OpenCV to process the image (thresholding to improve text extraction)\n",
    "    _, img_thresh = cv2.threshold(img_cv, 150, 255, cv2.THRESH_BINARY)\n",
    "\n",
    "    # Use EasyOCR to detect text in the image\n",
    "    result = reader.readtext(np.array(img_thresh))\n",
    "\n",
    "    # Draw over the detected numbers followed by symbols (removing them by covering with white)\n",
    "    draw = ImageDraw.Draw(img)\n",
    "\n",
    "    # Regex pattern for detecting numbers followed by symbols (degree, minute, second)\n",
    "    pattern = r'\\d+'\n",
    "    \n",
    "    # Iterate through each detected text and remove numbers followed by symbols\n",
    "    for detection in result:\n",
    "        text = detection[1]\n",
    "        bbox = detection[0]\n",
    "    \n",
    "    # If the text matches our pattern (number followed by degree, minute, or second symbol)\n",
    "    if re.match(pattern, text):\n",
    "        # Extract the bounding box coordinates\n",
    "        x1, y1 = int(bbox[0][0]), int(bbox[0][1])\n",
    "        x2, y2 = int(bbox[2][0]), int(bbox[2][1])\n",
    "        \n",
    "        # Cover the bounding box area with white to remove the number and symbol\n",
    "        draw.rectangle([x1, y1, x2, y2], fill=\"white\")\n",
    "        \n",
    " # Save the post-OCR image (with numbers removed) as a new image\n",
    "    output_image_path = os.path.join(output_folder, f\"OCR-Nonumber_{tif_file}\")\n",
    "    img.save(output_image_path)\n",
    "\n",
    "    print(f\"Processed image saved as: {output_image_path}\")"
   ]
  },
  {
   "cell_type": "code",
   "execution_count": 9,
   "id": "bdc9d636-a81d-4dc5-923a-6721db055f0a",
   "metadata": {},
   "outputs": [],
   "source": [
    "# 遍历文件夹中的所有.tif文件\n",
    "for filename in os.listdir(input_folder):\n",
    "    if filename.endswith('.tif'):\n",
    "        # 获取输入文件路径\n",
    "        input_file = os.path.join(input_folder, filename)\n",
    "        \n",
    "        # Open the image using Pillow\n",
    "        img = Image.open(image_path)\n",
    "\n",
    "        # Optionally, convert the image to grayscale for better OCR results\n",
    "        img_gray = img.convert('L')\n",
    "\n",
    "        # Convert grayscale image to numpy array for OpenCV processing\n",
    "        img_cv = np.array(img_gray)\n",
    "\n",
    "        # Use OpenCV to process the image (thresholding to improve text extraction)\n",
    "        _, img_thresh = cv2.threshold(img_cv, 150, 255, cv2.THRESH_BINARY)"
   ]
  },
  {
   "cell_type": "code",
   "execution_count": 9,
   "id": "adc71824-c2f7-4272-995d-4fde3d3b7812",
   "metadata": {},
   "outputs": [],
   "source": [
    "# Path to your uploaded .tif image\n",
    "image_path = 'C:/Users/lmao/Desktop/Arcadia_1950.tif'\n",
    "\n",
    "# Open the image using Pillow\n",
    "img = Image.open(image_path)\n",
    "\n",
    "# Convert the image to grayscale for better OCR results\n",
    "img_gray = img.convert('L')\n",
    "\n",
    "# Convert grayscale image to numpy array for OpenCV processing\n",
    "img_cv = np.array(img_gray)\n",
    "\n",
    "# Use OpenCV to process the image (thresholding to improve text extraction)\n",
    "_, img_thresh = cv2.threshold(img_cv, 150, 255, cv2.THRESH_BINARY)\n",
    "\n",
    "# Use EasyOCR to detect text in the image\n",
    "result = reader.readtext(np.array(img_thresh))\n",
    "\n",
    "# Draw over the detected numbers followed by symbols (removing them by covering with white)\n",
    "draw = ImageDraw.Draw(img)\n",
    "\n",
    "# Regex pattern for detecting numbers followed by symbols (degree, minute, second)\n",
    "pattern = r'\\d+'"
   ]
  },
  {
   "cell_type": "code",
   "execution_count": 11,
   "id": "664fda9b-1a5a-47af-aa6e-ceedf9039e87",
   "metadata": {
    "scrolled": true
   },
   "outputs": [
    {
     "name": "stderr",
     "output_type": "stream",
     "text": [
      "D:\\anaconda3\\envs\\geoai_env\\Lib\\site-packages\\PIL\\TiffImagePlugin.py:759: UserWarning: Metadata Warning, tag 33723 had too many entries: 13, expected 1\n",
      "  warnings.warn(\n"
     ]
    }
   ],
   "source": [
    "# Iterate through each detected text and remove numbers followed by symbols\n",
    "for detection in result:\n",
    "    text = detection[1]\n",
    "    bbox = detection[0]\n",
    "    \n",
    "    # If the text matches our pattern (number followed by degree, minute, or second symbol)\n",
    "    if re.match(pattern, text):\n",
    "        # Extract the bounding box coordinates\n",
    "        x1, y1 = int(bbox[0][0]), int(bbox[0][1])\n",
    "        x2, y2 = int(bbox[2][0]), int(bbox[2][1])\n",
    "        \n",
    "        # Cover the bounding box area with white to remove the number and symbol\n",
    "        draw.rectangle([x1, y1, x2, y2], fill=\"white\")\n",
    "        \n",
    "# Save the post-OCR image (with numbers followed by symbols removed) as a new image\n",
    "output_image_path = 'C:/Users/lmao/Desktop/Arcadia_1950-OCR.tif'\n",
    "img.save(output_image_path)"
   ]
  },
  {
   "cell_type": "code",
   "execution_count": 51,
   "id": "e4d1c681-a2d3-4388-a2c4-52174aaa6e56",
   "metadata": {},
   "outputs": [],
   "source": [
    "#import needed packages\n",
    "import easyocr\n",
    "from PIL import Image, ImageDraw\n",
    "import cv2\n",
    "import numpy as np\n",
    "import re\n",
    "import os\n",
    "from datetime import datetime\n",
    "\n",
    "# 设置输入输出路径\n",
    "input_folder = r\"/data/mls_data/USGS_Map_Gallery/testing_tif\"\n",
    "output_folder = r\"/data/mls_data/USGS_Map_Gallery/testing_tif_OCR\"\n",
    "\n",
    "log_file = os.path.join(output_folder, 'ocr_log.txt')\n",
    "\n",
    "# 确保输出目录存在\n",
    "os.makedirs(output_folder, exist_ok=True)\n",
    "\n",
    "# 初始化 EasyOCR（CPU）\n",
    "reader = easyocr.Reader(['en'], gpu=True, model_storage_directory=\"/data/mls_data/USGS_Map_Gallery/checkpoint\")\n",
    "\n",
    "# 匹配纯数字\n",
    "pattern = r'\\d'\n",
    "\n",
    "# 遍历所有 .tif 文件\n",
    "for filename in os.listdir(input_folder):\n",
    "    if filename.lower().endswith('.tif'):\n",
    "        input_path = os.path.join(input_folder, filename)\n",
    "        print(f\"正在处理文件: {input_path}\")\n",
    "\n",
    "        try:\n",
    "            # 打开图像\n",
    "            img = Image.open(input_path)\n",
    "            img_gray = img.convert('L')\n",
    "            img_cv = np.array(img_gray)\n",
    "            _, img_thresh = cv2.threshold(img_cv, 150, 255, cv2.THRESH_BINARY)\n",
    "\n",
    "            # OCR识别\n",
    "            result = reader.readtext(np.array(img_thresh))\n",
    "\n",
    "            # 初始化绘图对象\n",
    "            draw = ImageDraw.Draw(img)\n",
    "            for detection in result:\n",
    "                text = detection[1]\n",
    "                bbox = detection[0]\n",
    "\n",
    "                # 如果是纯数字，则移除\n",
    "                if re.match(pattern, text):\n",
    "                    x1, y1 = int(bbox[0][0]), int(bbox[0][1])\n",
    "                    x2, y2 = int(bbox[2][0]), int(bbox[2][1])\n",
    "                    draw.rectangle([x1, y1, x2, y2], fill=\"white\")\n",
    "\n",
    "            # 保存结果\n",
    "            base_name = os.path.splitext(filename)[0]\n",
    "            output_filename = f\"{base_name}_OCR_Remove.tif\"\n",
    "            output_path = os.path.join(output_folder, output_filename)\n",
    "            img.save(output_path)\n",
    "            print(f\"已经保存至: {output_path}\")\n",
    "        except Exception as e:\n",
    "            print(f\"跳过文件 {filename}，发生错误：{e}\")\n",
    "            continue  # 继续下一个文件\n",
    "\n",
    "print(\"全部图像处理完成。\")\n",
    "\n"
   ]
  },
  {
   "cell_type": "code",
   "execution_count": null,
   "id": "af862c42-d123-44ff-b1b9-1a02b84d1234",
   "metadata": {},
   "outputs": [],
   "source": []
  }
 ],
 "metadata": {
  "kernelspec": {
   "display_name": "Python [conda env:geoai_env]",
   "language": "python",
   "name": "conda-env-geoai_env-py"
  },
  "language_info": {
   "codemirror_mode": {
    "name": "ipython",
    "version": 3
   },
   "file_extension": ".py",
   "mimetype": "text/x-python",
   "name": "python",
   "nbconvert_exporter": "python",
   "pygments_lexer": "ipython3",
   "version": "3.11.11"
  }
 },
 "nbformat": 4,
 "nbformat_minor": 5
}
