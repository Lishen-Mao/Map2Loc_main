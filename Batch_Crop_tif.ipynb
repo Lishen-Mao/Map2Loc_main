{
 "cells": [
  {
   "cell_type": "code",
   "execution_count": 11,
   "id": "a98f027e-4867-4dd3-b19f-2c9c4c9edb9c",
   "metadata": {},
   "outputs": [
    {
     "name": "stdout",
     "output_type": "stream",
     "text": [
      "Collecting PyMuPDF\n",
      "  Downloading pymupdf-1.25.5-cp39-abi3-win_amd64.whl.metadata (3.4 kB)\n",
      "Downloading pymupdf-1.25.5-cp39-abi3-win_amd64.whl (16.6 MB)\n",
      "   ---------------------------------------- 0.0/16.6 MB ? eta -:--:--\n",
      "   ------------ --------------------------- 5.2/16.6 MB 31.7 MB/s eta 0:00:01\n",
      "   ----------------------------- ---------- 12.3/16.6 MB 35.1 MB/s eta 0:00:01\n",
      "   ---------------------------------------- 16.6/16.6 MB 30.7 MB/s eta 0:00:00\n",
      "Installing collected packages: PyMuPDF\n",
      "Successfully installed PyMuPDF-1.25.5\n",
      "Note: you may need to restart the kernel to use updated packages.\n"
     ]
    }
   ],
   "source": [
    "#pip install PyMuPDF"
   ]
  },
  {
   "cell_type": "code",
   "execution_count": 43,
   "id": "737dac9f-0db9-4865-9bbd-55086fde61cf",
   "metadata": {},
   "outputs": [],
   "source": [
    "import os\n",
    "import rasterio\n",
    "import logging\n",
    "from rasterio.windows import Window\n",
    "from datetime import datetime"
   ]
  },
  {
   "cell_type": "code",
   "execution_count": 31,
   "id": "7a6f0907-e24b-4293-a257-6b4d9f66d9aa",
   "metadata": {},
   "outputs": [],
   "source": [
    "def crop_raster_by_pixels(input_tif, output_tif, left, top, right, bottom):\n",
    "    width = right - left\n",
    "    height = bottom - top\n",
    "    \n",
    "    with rasterio.open(input_tif) as src:\n",
    "        window = Window(left, top, width, height)\n",
    "        transform = src.window_transform(window)\n",
    "        data = src.read(window=window)\n",
    "\n",
    "        profile = src.profile\n",
    "        profile.update({\n",
    "            \"height\": height,\n",
    "            \"width\": width,\n",
    "            \"transform\": transform,\n",
    "            \"compress\": \"lzw\",\n",
    "            \"photometric\": \"RGB\"\n",
    "        })\n",
    "\n",
    "        with rasterio.open(output_tif, \"w\", **profile) as dst:\n",
    "            dst.write(data)"
   ]
  },
  {
   "cell_type": "code",
   "execution_count": 33,
   "id": "f5f4a98f-3fca-475f-97a8-90648fb34472",
   "metadata": {},
   "outputs": [],
   "source": [
    "# --- Configuration ---\n",
    "input_folder = r\"D:\\USGS_Topo\\USGS_Testing\"\n",
    "output_folder = os.path.join(input_folder, \"cropped\")\n",
    "os.makedirs(output_folder, exist_ok=True)\n",
    "\n",
    "# Pixel bounds for cropping\n",
    "left, top, right, bottom = 926, 371, 5620, 7152"
   ]
  },
  {
   "cell_type": "code",
   "execution_count": 45,
   "id": "7d712e50-5a21-4d2d-881a-a1d48e005904",
   "metadata": {},
   "outputs": [],
   "source": [
    "# --- Logging setup ---\n",
    "log_file = os.path.join(output_folder, f\"crop_log_{datetime.now().strftime('%Y%m%d_%H%M%S')}.txt\")\n",
    "logging.basicConfig(\n",
    "    filename=log_file,\n",
    "    level=logging.INFO,\n",
    "    format=\"%(asctime)s [%(levelname)s] %(message)s\",\n",
    "    datefmt=\"%Y-%m-%d %H:%M:%S\"\n",
    ")"
   ]
  },
  {
   "cell_type": "code",
   "execution_count": 47,
   "id": "0f644200-4cec-4ba9-aeed-d6f2fddba0f8",
   "metadata": {},
   "outputs": [],
   "source": [
    "# --- Batch processing with logging infor---\n",
    "def batch_crop_rasters():\n",
    "    logging.info(\"Starting batch raster cropping...\")\n",
    "\n",
    "    for filename in os.listdir(input_folder):\n",
    "        if filename.lower().endswith(\".tif\"):\n",
    "            input_path = os.path.join(input_folder, filename)\n",
    "            output_path = os.path.join(output_folder, filename)\n",
    "\n",
    "            if os.path.exists(output_path):\n",
    "                logging.info(f\"SKIPPED: {filename} (already cropped)\")\n",
    "                continue\n",
    "\n",
    "            try:\n",
    "                crop_raster_by_pixels(input_path, output_path, left, top, right, bottom)\n",
    "                logging.info(f\"CROPPED: {filename}\")\n",
    "            except Exception as e:\n",
    "                logging.error(f\"ERROR processing {filename}: {e}\")\n",
    "\n",
    "    logging.info(\"Batch cropping complete.\")"
   ]
  },
  {
   "cell_type": "code",
   "execution_count": 51,
   "id": "575d77cf-2c00-4ce4-b79d-9b373f89320b",
   "metadata": {},
   "outputs": [],
   "source": [
    "# --- Entry point ---\n",
    "if __name__ == \"__main__\":\n",
    "    batch_crop_rasters()"
   ]
  },
  {
   "cell_type": "code",
   "execution_count": 35,
   "id": "e473eddd-e6af-4944-81ba-e3007e458ba8",
   "metadata": {},
   "outputs": [
    {
     "name": "stdout",
     "output_type": "stream",
     "text": [
      "Cropping Abajo_Peak_1985.tif ...\n",
      "Cropping Abbeville_1949.tif ...\n",
      "Cropping Abbotsford_1981.tif ...\n",
      "Cropping Aberdeen_Gardens_1990.tif ...\n",
      "Cropping Abes_Knob_1994.tif ...\n",
      "Cropping Abes_Knoll_1969.tif ...\n",
      "Cropping Abingdon_1980.tif ...\n",
      "Cropping Abreu_Canyon_1995.tif ...\n",
      "Cropping Accident_1947.tif ...\n",
      "Cropping Accident_1994.tif ...\n",
      "Cropping Achilles_SE_1978.tif ...\n",
      "Cropping Ackley_NE_1979.tif ...\n",
      "Cropping Acord_Lakes_1968.tif ...\n",
      "Cropping Acorn_1958.tif ...\n",
      "Cropping Acorn_Butte_1973.tif ...\n",
      "Cropping Acton_1961.tif ...\n",
      "Cropping Acton_1962.tif ...\n",
      "Cropping Adair_1959.tif ...\n",
      "Cropping Adair_North_1971.tif ...\n",
      "Cropping Adamana_1982.tif ...\n",
      "Cropping Adams_1972.tif ...\n",
      "Cropping Adams_Lake_1974.tif ...\n",
      "Cropping Adams_Mesa_1971.tif ...\n",
      "Cropping Adaven_1985.tif ...\n",
      "Cropping Addicks_1970.tif ...\n",
      "Cropping Addison_1948.tif ...\n",
      "Cropping Addy_Mountain_1992.tif ...\n",
      "Cropping Adelphia_1947.tif ...\n",
      "Cropping Adel_1968.tif ...\n",
      "Cropping Adolph_1953.tif ...\n",
      "Cropping Adolph_1995.tif ...\n",
      "Cropping Adona_1961.tif ...\n",
      "Cropping Adrian_1943.tif ...\n",
      "Cropping Adrian_SW_1967.tif ...\n",
      "Cropping Ady_1966.tif ...\n",
      "Cropping Afton_1957.tif ...\n",
      "Cropping Afton_NW_1996.tif ...\n",
      "Cropping Agar_NE_1970.tif ...\n",
      "Cropping Agathla_Peak_1988.tif ...\n",
      "Cropping Agat_2000.tif ...\n",
      "Cropping Agency_1956.tif ...\n",
      "Cropping Agnes_Mtn__1963.tif ...\n",
      "Cropping Agricola_1982.tif ...\n",
      "Cropping Aguanga_1997.tif ...\n",
      "Cropping Ahoskie_1982.tif ...\n",
      "Cropping Aiken_1964.tif ...\n",
      "Cropping Aiken_NW_1964.tif ...\n",
      "Cropping Aimwell_1984.tif ...\n",
      "Cropping Akron_1949.tif ...\n",
      "Cropping Akron_East_1958.tif ...\n",
      "Cropping Akron_SW_1973.tif ...\n",
      "Cropping Alabaster_1980.tif ...\n",
      "Cropping Alameda_1967.tif ...\n",
      "Cropping Alamogordo_Dam_1966.tif ...\n",
      "Cropping Alamo_1964.tif ...\n",
      "Cropping Albany_1965.tif ...\n",
      "Cropping Albercas_Ranch_1972.tif ...\n",
      "Batch cropping complete.\n"
     ]
    }
   ],
   "source": [
    "# --- Process each .tif file in the folder ---\n",
    "for filename in os.listdir(input_folder):\n",
    "    if filename.lower().endswith(\".tif\"):\n",
    "        input_path = os.path.join(input_folder, filename)\n",
    "        output_path = os.path.join(output_folder, filename)\n",
    "        print(f\"Cropping {filename} ...\")\n",
    "        crop_raster_by_pixels(input_path, output_path, left, top, right, bottom)\n",
    "\n",
    "print(\"Batch cropping complete.\")"
   ]
  }
 ],
 "metadata": {
  "kernelspec": {
   "display_name": "Python [conda env:geoai_env]",
   "language": "python",
   "name": "conda-env-geoai_env-py"
  },
  "language_info": {
   "codemirror_mode": {
    "name": "ipython",
    "version": 3
   },
   "file_extension": ".py",
   "mimetype": "text/x-python",
   "name": "python",
   "nbconvert_exporter": "python",
   "pygments_lexer": "ipython3",
   "version": "3.11.11"
  }
 },
 "nbformat": 4,
 "nbformat_minor": 5
}
